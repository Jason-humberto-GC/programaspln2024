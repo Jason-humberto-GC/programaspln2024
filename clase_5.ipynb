{
 "cells": [
  {
   "cell_type": "code",
   "execution_count": 1,
   "metadata": {},
   "outputs": [
    {
     "name": "stderr",
     "output_type": "stream",
     "text": [
      "[nltk_data] Downloading package punkt to\n",
      "[nltk_data]     C:\\Users\\jason\\AppData\\Roaming\\nltk_data...\n",
      "[nltk_data]   Unzipping tokenizers\\punkt.zip.\n"
     ]
    },
    {
     "data": {
      "text/plain": [
       "True"
      ]
     },
     "execution_count": 1,
     "metadata": {},
     "output_type": "execute_result"
    }
   ],
   "source": [
    "import nltk\n",
    "nltk.download(\"punkt\")\n"
   ]
  },
  {
   "cell_type": "code",
   "execution_count": 2,
   "metadata": {},
   "outputs": [
    {
     "name": "stdout",
     "output_type": "stream",
     "text": [
      "Esto\n",
      "es\n",
      "escribe\n",
      "en\n",
      "el\n",
      "archivo\n",
      "Esto\n",
      "tambien\n",
      "mira\n",
      ",\n",
      "puedo\n",
      "escribir\n",
      "``\n",
      "comillas\n",
      "''\n",
      "gracias\n",
      "a\n",
      "la\n",
      "diagonal\n",
      "invertida\n",
      ":\n",
      "hola\n"
     ]
    }
   ],
   "source": [
    "carpeta_nombre = \"documentos\\\\\"\n",
    "archivo_nombre = \"gpi.txt\"\n",
    "\n",
    "with open(carpeta_nombre + archivo_nombre, \"r\") as archivo:\n",
    "    texto = archivo.read()\n",
    "    \n",
    "tokens = nltk.word_tokenize(texto,\"spanish\")\n",
    "\n",
    "for token in tokens:\n",
    "    print(token)"
   ]
  }
 ],
 "metadata": {
  "kernelspec": {
   "display_name": "Python 3",
   "language": "python",
   "name": "python3"
  },
  "language_info": {
   "codemirror_mode": {
    "name": "ipython",
    "version": 3
   },
   "file_extension": ".py",
   "mimetype": "text/x-python",
   "name": "python",
   "nbconvert_exporter": "python",
   "pygments_lexer": "ipython3",
   "version": "3.12.2"
  }
 },
 "nbformat": 4,
 "nbformat_minor": 2
}
